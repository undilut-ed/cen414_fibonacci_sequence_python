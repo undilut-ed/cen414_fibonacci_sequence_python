{
 "cells": [
  {
   "cell_type": "code",
   "execution_count": 28,
   "id": "3b49e543-dc0e-49b7-9112-832647db9d0a",
   "metadata": {},
   "outputs": [],
   "source": [
    "def fibonacci(n: int) -> int:\n",
    "    if n == 0 or n == 1:\n",
    "        return n\n",
    "    else:\n",
    "        return fibonacci(n-2) + fibonacci(n-1)"
   ]
  },
  {
   "cell_type": "code",
   "execution_count": 29,
   "id": "8f617bbc-e054-471d-8209-2e44ef3b3055",
   "metadata": {},
   "outputs": [],
   "source": [
    "loop = True\n",
    "num = 0\n",
    "fibonacci_array = []"
   ]
  },
  {
   "cell_type": "code",
   "execution_count": 30,
   "id": "ea346c4f-7381-4ec7-be5b-6756a0db3845",
   "metadata": {},
   "outputs": [],
   "source": [
    "while loop:\n",
    "    fibonacci_value = fibonacci(num)\n",
    "    fibonacci_array.append(fibonacci_value)\n",
    "    num += 1\n",
    "    if fibonacci_value > 10000:\n",
    "        loop = False"
   ]
  },
  {
   "cell_type": "code",
   "execution_count": 33,
   "id": "5da600fc-7ab8-4827-846a-a190fb7ca809",
   "metadata": {},
   "outputs": [
    {
     "name": "stdout",
     "output_type": "stream",
     "text": [
      "[0, 1, 1, 2, 3, 5, 8, 13, 21, 34, 55, 89, 144, 233, 377, 610, 987, 1597, 2584, 4181, 6765, 10946]\n"
     ]
    }
   ],
   "source": [
    "print(fibonacci_array)"
   ]
  }
 ],
 "metadata": {
  "kernelspec": {
   "display_name": "Python 3 (ipykernel)",
   "language": "python",
   "name": "python3"
  },
  "language_info": {
   "codemirror_mode": {
    "name": "ipython",
    "version": 3
   },
   "file_extension": ".py",
   "mimetype": "text/x-python",
   "name": "python",
   "nbconvert_exporter": "python",
   "pygments_lexer": "ipython3",
   "version": "3.10.5"
  }
 },
 "nbformat": 4,
 "nbformat_minor": 5
}
